{
  "nbformat": 4,
  "nbformat_minor": 0,
  "metadata": {
    "colab": {
      "private_outputs": true,
      "provenance": [],
      "gpuType": "T4",
      "cell_execution_strategy": "setup"
    },
    "kernelspec": {
      "name": "python3",
      "display_name": "Python 3"
    },
    "language_info": {
      "name": "python"
    },
    "accelerator": "GPU"
  },
  "cells": [
    {
      "cell_type": "code",
      "source": [
        "from google.colab import files\n",
        "files.upload()"
      ],
      "metadata": {
        "id": "ge8K8jpL4H0T"
      },
      "execution_count": null,
      "outputs": []
    },
    {
      "cell_type": "code",
      "source": [
        "import os\n",
        "os.makedirs('/root/.kaggle', exist_ok=True)\n",
        "os.rename('kaggle.json', '/root/.kaggle/kaggle.json')"
      ],
      "metadata": {
        "id": "f-xpXUgsF9xC"
      },
      "execution_count": null,
      "outputs": []
    },
    {
      "cell_type": "code",
      "source": [
        "!pip install kaggle\n",
        "\n",
        "!kaggle competitions download -c titanic"
      ],
      "metadata": {
        "id": "igJUY5_gHZiP"
      },
      "execution_count": null,
      "outputs": []
    },
    {
      "cell_type": "code",
      "source": [
        "!unzip titanic.zip"
      ],
      "metadata": {
        "id": "n40jQxytFrLB"
      },
      "execution_count": null,
      "outputs": []
    },
    {
      "cell_type": "code",
      "source": [
        "import pandas as pd\n",
        "import numpy as np\n",
        "import random as rnd\n",
        "\n",
        "import seaborn as sns\n",
        "import matplotlib.pyplot as plt\n",
        "%matplotlib inline\n",
        "\n",
        "from sklearn.linear_model import LogisticRegression\n",
        "from sklearn.svm import SVC, LinearSVC\n",
        "from sklearn.ensemble import RandomForestClassifier\n",
        "from sklearn.neighbors import KNeighborsClassifier\n",
        "from sklearn.naive_bayes import GaussianNB\n",
        "from sklearn.linear_model import Perceptron\n",
        "from sklearn.linear_model import SGDClassifier\n",
        "from sklearn.tree import DecisionTreeClassifier"
      ],
      "metadata": {
        "id": "i60FoeHJ6JZ_"
      },
      "execution_count": null,
      "outputs": []
    },
    {
      "cell_type": "code",
      "source": [
        "!pwd\n",
        "!ls"
      ],
      "metadata": {
        "id": "PZhf2AvXEkRG"
      },
      "execution_count": null,
      "outputs": []
    },
    {
      "cell_type": "code",
      "source": [
        "train_df = pd.read_csv('/content/train.csv')\n",
        "test_df = pd.read_csv('/content/test.csv')\n",
        "combine = [train_df, test_df]\n",
        "print(train_df.shape)\n",
        "combine[0].shape"
      ],
      "metadata": {
        "id": "fcnyZ8_zIPxN"
      },
      "execution_count": null,
      "outputs": []
    },
    {
      "cell_type": "code",
      "source": [
        "print(train_df.columns.values)"
      ],
      "metadata": {
        "id": "5bfRTrb0IFl5"
      },
      "execution_count": null,
      "outputs": []
    },
    {
      "cell_type": "code",
      "source": [
        "# 범주형 데이터(범주형: Survived, Sex, Embarked, 서열형(순서) : Pclass)\n",
        "# 수치형 데이터(연속형 : Age, 이산형 : SibSp, Parch)\n",
        "\n",
        "train_df.head()"
      ],
      "metadata": {
        "id": "rdUSz0NgJBnP"
      },
      "execution_count": null,
      "outputs": []
    },
    {
      "cell_type": "code",
      "source": [
        "train_df.tail()"
      ],
      "metadata": {
        "id": "N58NUAyFQL46"
      },
      "execution_count": null,
      "outputs": []
    },
    {
      "cell_type": "code",
      "source": [
        "# 결측값이 존재하는지 확인하는 방법은?\n",
        "train_df.info()\n",
        "print('-'*40)\n",
        "test_df.info()\n",
        "\n",
        "# 결측되지 않은 값, 데이터 타입(64타입 정수, objext(문자열), 64타입 부동소수)"
      ],
      "metadata": {
        "id": "95-8v1_5Q6Px"
      },
      "execution_count": null,
      "outputs": []
    },
    {
      "cell_type": "code",
      "source": [
        "# 주식별자, Pclass, 이름, 성별, 가족관계(부모자녀/형제배우자), 티켓, 생존여부, 요금\n",
        "\n",
        "train_df.describe()"
      ],
      "metadata": {
        "id": "mK4OX9AYSKpv"
      },
      "execution_count": null,
      "outputs": []
    },
    {
      "cell_type": "code",
      "source": [
        "survived_percentiles = train_df['Survived'].quantile([.61, .62])\n",
        "print(survived_percentiles)\n",
        "\n",
        "parch_percentiles = train_df['Parch'].quantile([.75, .8])\n",
        "print(parch_percentiles)\n",
        "\n",
        "sibsp_percentiles = train_df['SibSp'].quantile([.68, .69])\n",
        "print(sibsp_percentiles)\n",
        "\n",
        "age_percentiles = train_df['Age'].quantile([ .1, .2, .3, .4, .5, .6, .7, .8, .9, .99])\n",
        "print(age_percentiles)"
      ],
      "metadata": {
        "id": "HpGtyEhiTvaV"
      },
      "execution_count": null,
      "outputs": []
    },
    {
      "cell_type": "code",
      "source": [
        "# 이름 : 전부 다름, 성별 : 두개, 객실 : 다중복(그룹화), 항구 : 세개, 티켓 : 22% 중복(왜?)\n",
        "# O:Pandas/object 타입을 간략하게 나타내는 표현, top:최다 등장, freq:top개수, unique:유형수\n",
        "\n",
        "train_df.describe(include=['O'])"
      ],
      "metadata": {
        "id": "gt-kFxKRWN_x"
      },
      "execution_count": null,
      "outputs": []
    },
    {
      "cell_type": "code",
      "source": [
        "# 생존과의 상관관계 분석\n",
        "# 중요한 거 : 나이, 어디서 탔는지\n",
        "# 버려도 될 것 같은 거 : Cabin, Ticket, Pessengerid, Name\n",
        "# 특성 생성 : family, Title, Age bands, Fare range\n",
        "# 분류 : 생존 확률 높았을 것이다 - 여성, 어린이, 상류층 (일반적인 경험, 데이터)\n",
        "# Analyze by Pivoting features"
      ],
      "metadata": {
        "id": "3SPCKaFYXwWd"
      },
      "execution_count": null,
      "outputs": []
    },
    {
      "cell_type": "code",
      "source": [
        "train_df[['Pclass', 'Survived']].groupby(['Pclass'], as_index=False).mean().sort_values(by='Survived', ascending=False)\n",
        "# 객실 등급: 1등석(배의 상층부, 구명보트와 가까움), 2등석, 3등석"
      ],
      "metadata": {
        "id": "9AVgvuqJXtw1"
      },
      "execution_count": null,
      "outputs": []
    },
    {
      "cell_type": "code",
      "source": [
        "train_df[[\"Sex\", \"Survived\"]].groupby(['Sex'], as_index=False).mean().sort_values(by='Survived', ascending=False)"
      ],
      "metadata": {
        "id": "JbDmAhdPgcvL"
      },
      "execution_count": null,
      "outputs": []
    },
    {
      "cell_type": "code",
      "source": [
        "train_df[[\"SibSp\", \"Survived\"]].groupby(['SibSp'], as_index=False).mean().sort_values(by='Survived', ascending=False)"
      ],
      "metadata": {
        "id": "WRDiPT6ghb6v"
      },
      "execution_count": null,
      "outputs": []
    },
    {
      "cell_type": "code",
      "source": [
        "train_df[[\"Parch\", \"Survived\"]].groupby(['Parch'], as_index=False).mean().sort_values(by='Survived', ascending=False)"
      ],
      "metadata": {
        "id": "5gfMH7x7XdUq"
      },
      "execution_count": null,
      "outputs": []
    },
    {
      "cell_type": "code",
      "source": [
        "# 숫자형 특성 vs 목표 변수 상관관계\n",
        "# 히스토그램 : 연속적인 숫자형 변수 분석 유용\n",
        "# 관찰, 결정(워크플로우 단계에서 반영해야함) -> 결측값 해결, 나이 그룹화"
      ],
      "metadata": {
        "id": "qlkLixKni7DZ"
      },
      "execution_count": null,
      "outputs": []
    },
    {
      "cell_type": "code",
      "source": [
        "# sns.FacetGrid() : Seaborn 라이브러리의 기능, 열의 값에 따라 여러 개의 그래프를 나누어 시각화\n",
        "# 생존 그룹/사망 그룹 별도의 그래프로 나타냄\n",
        "g = sns.FacetGrid(train_df, col='Survived')\n",
        "g.map(plt.hist, 'Age', bins=20)"
      ],
      "metadata": {
        "id": "4tpwlOqJXbmV"
      },
      "execution_count": null,
      "outputs": []
    },
    {
      "cell_type": "code",
      "source": [
        "grid = sns.FacetGrid(train_df, col='Survived', row='Pclass', height=2.2, aspect=1.6)\n",
        "grid.map(plt.hist, 'Age', alpha=.5, bins=20)\n",
        "grid.add_legend();"
      ],
      "metadata": {
        "id": "Vdkz6rI4GCcV"
      },
      "execution_count": null,
      "outputs": []
    },
    {
      "cell_type": "code",
      "source": [
        "grid = sns.FacetGrid(train_df, row='Embarked', height=2.2, aspect=1.6)\n",
        "grid.map(sns.pointplot, 'Pclass', 'Survived', 'Sex', palette='deep')\n",
        "grid.add_legend()\n",
        "\n",
        "# 숫자가 아닌 값들과 숫자값의 상관관계 분석\n",
        "# 1. 높은 요금 지불한 승객 생존 2. 탑승한 항구와 생존 관계\n",
        "# 요금을 범주화 해서 그룹화하자 (저, 중, 고)"
      ],
      "metadata": {
        "id": "Mr8gr80EII8O"
      },
      "execution_count": null,
      "outputs": []
    },
    {
      "cell_type": "code",
      "source": [
        "# grid = sns.FacetGrid(train_df, col='Embarked', hue='Survived', palette={0: 'k', 1: 'w'})\n",
        "grid = sns.FacetGrid(train_df, row='Embarked', col='Survived', height=2.2, aspect=1.6)\n",
        "grid.map(sns.barplot, 'Sex', 'Fare', alpha=.5, errorbar=None)\n",
        "grid.add_legend()"
      ],
      "metadata": {
        "id": "BXkdhWTeKaLy"
      },
      "execution_count": null,
      "outputs": []
    },
    {
      "cell_type": "code",
      "source": [
        "# 불필요한 특징 제거 : 객실 정보, 티켓 번호 -> 훈련, 테스트 둘다 적용"
      ],
      "metadata": {
        "id": "MZQzOBS7VFMg"
      },
      "execution_count": null,
      "outputs": []
    },
    {
      "cell_type": "code",
      "source": [
        "print(\"Before\", train_df.shape, test_df.shape, combine[0].shape, combine[1].shape)\n",
        "\n",
        "train_df = train_df.drop(['Ticket', 'Cabin'], axis=1)\n",
        "test_df = test_df.drop(['Ticket', 'Cabin'], axis=1)\n",
        "combine = [train_df, test_df]\n",
        "\n",
        "\"After\", train_df.shape, test_df.shape, combine[0].shape, combine[1].shape"
      ],
      "metadata": {
        "id": "wv_gXtf0TPTr"
      },
      "execution_count": null,
      "outputs": []
    },
    {
      "cell_type": "code",
      "source": [
        "# Title과 Survived간 상관관계 분석 -> 이후 Name, PassengerId 특성 삭제\n",
        "# 정규 표현식(RegEx) : \\w+\\. == Name 특성 내에서 점으로 끝나는 첫 번째 단어 찾기. expand=False == DataFrame 형식으로 데이터 반환\n",
        "# 관찰 후 -> Master 호칭 평균 나이 5세 / Title, Age 생존률 약간 차이 존재 / 특정 호칭은 생존여부에 의미\n",
        "# 따라서 Title 특성 유지하기로 함\n",
        "# A-Za-Z : 대소문자를 구분하지 않고 모든 알파벳(A-Z, a-z)포함하는 문자 집합"
      ],
      "metadata": {
        "id": "rREjFbHMalwd"
      },
      "execution_count": null,
      "outputs": []
    },
    {
      "cell_type": "code",
      "source": [
        "# dataset['추출할_컬럼'].str.extract('정규표현식')\n",
        "for dataset in combine:\n",
        "  dataset['Title'] = dataset.Name.str.extract('([A-Za-z]+)\\.', expand=False)\n",
        "\n",
        "pd.crosstab(train_df['Title'], train_df['Sex'])"
      ],
      "metadata": {
        "id": "bW2cdcgmTKgW"
      },
      "execution_count": null,
      "outputs": []
    },
    {
      "cell_type": "code",
      "source": [
        "# 성별, 나이, 사회적 지위 암시용으로 이름 구분\n",
        "# 어린 남성, 어린 여성, 미혼 여성, 기혼 여성, 이외\n",
        "\n",
        "for dataset in combine:\n",
        "  dataset['Title'] = dataset['Title'].replace(['Lady', 'Countess', 'Capt', 'Col', \\\n",
        "                                               'Don', 'Dr', 'Major', 'Rev', 'Sir', 'Jonkheer', 'Dona'], 'Rare')\n",
        "  dataset['Title'] = dataset['Title'].replace(['Mlle', 'Ms'], 'Miss')\n",
        "  dataset['Title'] = dataset['Title'].replace('Mme', 'Mrs')\n",
        "\n",
        "train_df[['Title', 'Survived']].groupby(['Title'], as_index=False).mean()"
      ],
      "metadata": {
        "id": "3NUc10avS9sS"
      },
      "execution_count": null,
      "outputs": []
    },
    {
      "cell_type": "code",
      "source": [
        "grouped = train_df.groupby(['Survived', 'Title']).size().reset_index(name='Count')\n",
        "print(grouped)"
      ],
      "metadata": {
        "id": "iPNxKTwMRhey"
      },
      "execution_count": null,
      "outputs": []
    },
    {
      "cell_type": "code",
      "source": [
        "title_mapping = {'Mr':1, 'Miss':2, 'Mrs':3, 'Master':4, 'Rare':5}\n",
        "for dataset in combine:\n",
        "  dataset['Title'] = dataset['Title'].map(title_mapping)\n",
        "  dataset['Title'] = dataset['Title'].fillna(0)\n",
        "\n",
        "train_df.head()"
      ],
      "metadata": {
        "id": "RkO6quG2N_ii"
      },
      "execution_count": null,
      "outputs": []
    },
    {
      "cell_type": "code",
      "source": [
        "train_df = train_df.drop(['Name', 'PassengerId'], axis=1)\n",
        "test_df = test_df.drop(['Name'], axis=1)\n",
        "combine = [train_df, test_df]\n",
        "train_df.shape, test_df.shape"
      ],
      "metadata": {
        "id": "lwlAM2c-G1PS"
      },
      "execution_count": null,
      "outputs": []
    },
    {
      "cell_type": "code",
      "source": [
        "train_df.columns"
      ],
      "metadata": {
        "id": "895woizNHS_N"
      },
      "execution_count": null,
      "outputs": []
    },
    {
      "cell_type": "code",
      "source": [
        "test_df.columns"
      ],
      "metadata": {
        "id": "I_o90XoJIKDz"
      },
      "execution_count": null,
      "outputs": []
    },
    {
      "cell_type": "code",
      "source": [
        "# 이제 문자열을 포함하는 특성들을 수치형 값으로 변환할 수 있다.\n",
        "# Sex 특성을 여자=1, 남자=0으로 분류된 Gender이라고 불리는 새로운 특성으로 변환하자\n",
        "\n",
        "for dataset in combine:\n",
        "  dataset['Sex'] = dataset['Sex'].map({'female':1, 'male':0}).astype(int)\n",
        "\n",
        "print(dataset['Sex'].unique())\n",
        "train_df.head()"
      ],
      "metadata": {
        "id": "7n2c4iHvHGNI"
      },
      "execution_count": null,
      "outputs": []
    },
    {
      "cell_type": "code",
      "source": [
        "# 이제 결측값 처리\n",
        "# 1. 평균, 표준편차 -> 노이즈\n",
        "# 2. 상관관계가 있는 다른 특성 사용해 결측값 처리 (다른 특성들의 조건에 따라 결측값 달라짐)\n",
        "# 3. Pclass, Gender 조합에 따라 Age 값으로 평균과 표준편차 사용 -> 노이즈"
      ],
      "metadata": {
        "id": "khchus7fKOCd"
      },
      "execution_count": null,
      "outputs": []
    },
    {
      "cell_type": "code",
      "source": [
        "grid = sns.FacetGrid(train_df, row='Pclass', col='Sex', height=2.2, aspect=1.6)\n",
        "grid.map(plt.hist, 'Age', alpha=.5, bins=20)\n",
        "grid.add_legend()\n",
        "\n",
        "# 3등급 칸에서 남자 생존 비율이 월등히 높다"
      ],
      "metadata": {
        "id": "hmPOBi3aJy7M"
      },
      "execution_count": null,
      "outputs": []
    },
    {
      "cell_type": "code",
      "source": [
        "guess_ages = np.zeros((2, 3))\n",
        "guess_ages"
      ],
      "metadata": {
        "id": "_jIAVJ5ThO0u"
      },
      "execution_count": null,
      "outputs": []
    },
    {
      "cell_type": "code",
      "source": [
        "for dataset in combine:\n",
        "  for i in range(0, 2):\n",
        "    for j in range(0, 3):\n",
        "      guess_df = dataset[(dataset['Sex']==i) & (dataset['Pclass']==j+1)]['Age'].dropna()\n",
        "\n",
        "      age_guess = guess_df.median()\n",
        "\n",
        "      guess_ages[i, j] = int(age_guess/0.5 + 0.5)*0.5\n",
        "\n",
        "  for i in range(0, 2):\n",
        "    for j in range(0, 3):\n",
        "      dataset.loc[(dataset.Age.isnull()) & (dataset.Sex == i) & (dataset.Pclass == j+1), \\\n",
        "                  'Age'] = guess_ages[i, j]\n",
        "\n",
        "  dataset['Age'] = dataset['Age'].astype(int)\n",
        "\n",
        "train_df.head()"
      ],
      "metadata": {
        "id": "WJWTwVZUy4Y2"
      },
      "execution_count": null,
      "outputs": []
    },
    {
      "cell_type": "code",
      "source": [],
      "metadata": {
        "id": "PyjAxUGh2iQo"
      },
      "execution_count": null,
      "outputs": []
    },
    {
      "cell_type": "code",
      "source": [],
      "metadata": {
        "id": "j3CCNm4o2whm"
      },
      "execution_count": null,
      "outputs": []
    },
    {
      "cell_type": "code",
      "source": [],
      "metadata": {
        "id": "8YGmFQoO09xR"
      },
      "execution_count": null,
      "outputs": []
    },
    {
      "cell_type": "code",
      "source": [],
      "metadata": {
        "id": "FhJ3zhO91ozg"
      },
      "execution_count": null,
      "outputs": []
    },
    {
      "cell_type": "code",
      "source": [],
      "metadata": {
        "id": "IpiekUyD1mfB"
      },
      "execution_count": null,
      "outputs": []
    },
    {
      "cell_type": "code",
      "source": [],
      "metadata": {
        "id": "x3m8AUdD0zdJ"
      },
      "execution_count": null,
      "outputs": []
    },
    {
      "cell_type": "code",
      "source": [],
      "metadata": {
        "id": "vf08QZ4k0bDU"
      },
      "execution_count": null,
      "outputs": []
    },
    {
      "cell_type": "code",
      "source": [],
      "metadata": {
        "id": "7FdMyMsm0E_w"
      },
      "execution_count": null,
      "outputs": []
    },
    {
      "cell_type": "code",
      "source": [],
      "metadata": {
        "id": "cJZ3nqzez7WT"
      },
      "execution_count": null,
      "outputs": []
    },
    {
      "cell_type": "code",
      "source": [],
      "metadata": {
        "id": "rze_F9doz0bV"
      },
      "execution_count": null,
      "outputs": []
    },
    {
      "cell_type": "code",
      "source": [],
      "metadata": {
        "id": "7pfgqiNyzpOy"
      },
      "execution_count": null,
      "outputs": []
    },
    {
      "cell_type": "code",
      "source": [],
      "metadata": {
        "id": "ER997WK3yU3n"
      },
      "execution_count": null,
      "outputs": []
    },
    {
      "cell_type": "code",
      "source": [],
      "metadata": {
        "id": "IeTzuEwvyK5Z"
      },
      "execution_count": null,
      "outputs": []
    },
    {
      "cell_type": "code",
      "source": [],
      "metadata": {
        "id": "PqBJv-Qyx7ru"
      },
      "execution_count": null,
      "outputs": []
    },
    {
      "cell_type": "code",
      "source": [],
      "metadata": {
        "id": "gksOWT4hxuxS"
      },
      "execution_count": null,
      "outputs": []
    },
    {
      "cell_type": "code",
      "source": [],
      "metadata": {
        "id": "L8esnr7WxpIy"
      },
      "execution_count": null,
      "outputs": []
    },
    {
      "cell_type": "code",
      "source": [],
      "metadata": {
        "id": "prUhysFFxlgz"
      },
      "execution_count": null,
      "outputs": []
    },
    {
      "cell_type": "code",
      "source": [],
      "metadata": {
        "id": "oBsYz2gwxWHK"
      },
      "execution_count": null,
      "outputs": []
    }
  ]
}